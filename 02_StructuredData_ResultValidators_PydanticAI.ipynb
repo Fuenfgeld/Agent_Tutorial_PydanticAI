{
  "nbformat": 4,
  "nbformat_minor": 0,
  "metadata": {
    "colab": {
      "private_outputs": true,
      "provenance": [],
      "toc_visible": true,
      "authorship_tag": "ABX9TyOd7Xa6UP38dYU6lO3muk59",
      "include_colab_link": true
    },
    "kernelspec": {
      "name": "python3",
      "display_name": "Python 3"
    },
    "language_info": {
      "name": "python"
    }
  },
  "cells": [
    {
      "cell_type": "markdown",
      "metadata": {
        "id": "view-in-github",
        "colab_type": "text"
      },
      "source": [
        "<a href=\"https://colab.research.google.com/github/Fuenfgeld/Agent_Tutorial_PydanticAI/blob/main/02_StructuredData_ResultValidators_PydanticAI.ipynb\" target=\"_parent\"><img src=\"https://colab.research.google.com/assets/colab-badge.svg\" alt=\"Open In Colab\"/></a>"
      ]
    },
    {
      "cell_type": "code",
      "execution_count": null,
      "metadata": {
        "id": "jhh7vHzRA8Tl"
      },
      "outputs": [],
      "source": [
        "%pip -q install pydantic-ai\n",
        "%pip -q install nest_asyncio\n",
        "%pip -q install logfire"
      ]
    },
    {
      "cell_type": "code",
      "source": [
        "import os\n",
        "from google.colab import userdata\n",
        "\n",
        "keyAntropic = userdata.get('Claude')\n",
        "keyOpenAI = userdata.get('openAI')\n",
        "keyLogFire = userdata.get('logfire')\n",
        "\n",
        "\n",
        "os.environ[\"OPENAI_API_KEY\"] = keyOpenAI\n",
        "os.environ[\"ANTHROPIC_API_KEY\"] = keyAntropic\n",
        "\n",
        "import nest_asyncio\n",
        "nest_asyncio.apply()\n",
        "#logfire.configure(token=keyLogFire)"
      ],
      "metadata": {
        "id": "rAbKC2XSBl93"
      },
      "execution_count": null,
      "outputs": []
    },
    {
      "cell_type": "markdown",
      "source": [
        "# Structured Data models as output\n",
        "https://ai.pydantic.dev/output/#structured-output"
      ],
      "metadata": {
        "id": "eCSZhZdWtnNm"
      }
    },
    {
      "cell_type": "code",
      "source": [
        "import os\n",
        "from pydantic_ai import Agent\n",
        "from pydantic_ai.models.openai import OpenAIModel\n",
        "from pydantic import BaseModel\n",
        "\n",
        "# Define the model\n",
        "model = OpenAIModel('gpt-4o-mini')\n",
        "\n",
        "# Define the output model\n",
        "class Box(BaseModel):\n",
        "    \"\"\"Caputers the size of a box with its units\"\"\"\n",
        "    width: int\n",
        "    height: int\n",
        "    depth: int\n",
        "    units: str\n",
        "\n",
        "# Define the agent\n",
        "agent = Agent(model=model,\n",
        "              result_type=Box,\n",
        "              system_prompt=\"Extract me the dimensions of a box\",)\n",
        "\n",
        "# Run the agent\n",
        "result = agent.run_sync(\"The box is 10x20x30 cm\")\n",
        "\n",
        "print( f\"\"\"\n",
        "The result is a pydantic data class of type: {type(result.output)}\n",
        "within the width: {result.output.width} width type: {type(result.output.width)}\n",
        "within the unit: {result.output.units} units type: {type(result.output.units)}\n",
        "\"\"\")"
      ],
      "metadata": {
        "id": "QjFyiT0jttl0"
      },
      "execution_count": null,
      "outputs": []
    },
    {
      "cell_type": "markdown",
      "source": [
        "## Nested Data Structure"
      ],
      "metadata": {
        "id": "fdfFiBIeXBO2"
      }
    },
    {
      "cell_type": "code",
      "source": [],
      "metadata": {
        "id": "9Zt3fqSpX9ER"
      },
      "execution_count": null,
      "outputs": []
    },
    {
      "cell_type": "markdown",
      "source": [
        "## Data extraction from unstructured text"
      ],
      "metadata": {
        "id": "69sga_2JX-rq"
      }
    },
    {
      "cell_type": "code",
      "source": [],
      "metadata": {
        "id": "NkJPU4qJYF3V"
      },
      "execution_count": null,
      "outputs": []
    },
    {
      "cell_type": "markdown",
      "source": [
        "#Output Validators"
      ],
      "metadata": {
        "id": "wFhEn27KYNZS"
      }
    },
    {
      "cell_type": "code",
      "source": [
        "import os\n",
        "from pydantic_ai import Agent, ModelRetry\n",
        "from pydantic_ai.models.openai import OpenAIModel\n",
        "from pydantic import BaseModel\n",
        "\n",
        "# Define the model\n",
        "model = OpenAIModel('gpt-4o-mini')\n",
        "\n",
        "\n",
        "\n",
        "# Define the agent\n",
        "agent = Agent(model=model,\n",
        "              retries=1,\n",
        "              system_prompt=\"see if you have been given all three dimesion to describe the size of a box (width height depth). Answer with a single word either 'correct' or 'wrong'\",)\n",
        "\n",
        "# Define the result validator\n",
        "@agent.output_validator\n",
        "def output_validator_simple(data: str) -> str:\n",
        "\n",
        "    print(f\"output_validatorinput data:{data}\" )\n",
        "    if 'wrong' in data.lower():\n",
        "        raise ModelRetry('wrong response')\n",
        "    return data\n",
        "\n",
        "# Run the agent\n",
        "result = agent.run_sync(\"The box is 10x20x30 cm\")\n",
        "print(result.output)\n",
        "\n",
        "result = agent.run_sync(\"The box is 10\")\n",
        "print(result.output)"
      ],
      "metadata": {
        "id": "yKjsI3YYYSjA"
      },
      "execution_count": null,
      "outputs": []
    },
    {
      "cell_type": "markdown",
      "source": [
        "## Validate structured Output"
      ],
      "metadata": {
        "id": "4ts3x1XSb5yG"
      }
    },
    {
      "cell_type": "code",
      "source": [],
      "metadata": {
        "id": "dFkIt-RBdAIF"
      },
      "execution_count": null,
      "outputs": []
    },
    {
      "cell_type": "markdown",
      "source": [
        "## Multiple validators"
      ],
      "metadata": {
        "id": "PSMzkSqxdBVV"
      }
    },
    {
      "cell_type": "code",
      "source": [],
      "metadata": {
        "id": "nEOPihGjdOTh"
      },
      "execution_count": null,
      "outputs": []
    },
    {
      "cell_type": "markdown",
      "source": [
        "## Validate executable code"
      ],
      "metadata": {
        "id": "UJhx-XUzdSKT"
      }
    },
    {
      "cell_type": "code",
      "source": [],
      "metadata": {
        "id": "wBlwCDHUdYCE"
      },
      "execution_count": null,
      "outputs": []
    }
  ]
}