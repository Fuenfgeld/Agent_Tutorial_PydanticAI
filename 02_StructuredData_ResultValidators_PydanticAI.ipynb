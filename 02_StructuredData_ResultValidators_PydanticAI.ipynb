{
  "nbformat": 4,
  "nbformat_minor": 0,
  "metadata": {
    "colab": {
      "private_outputs": true,
      "provenance": [],
      "authorship_tag": "ABX9TyN71hJ+SQ1KnrDVzd0C7SkL",
      "include_colab_link": true
    },
    "kernelspec": {
      "name": "python3",
      "display_name": "Python 3"
    },
    "language_info": {
      "name": "python"
    }
  },
  "cells": [
    {
      "cell_type": "markdown",
      "metadata": {
        "id": "view-in-github",
        "colab_type": "text"
      },
      "source": [
        "<a href=\"https://colab.research.google.com/github/Fuenfgeld/Agent_Tutorial_PydanticAI/blob/main/02_StructuredData_ResultValidators_PydanticAI.ipynb\" target=\"_parent\"><img src=\"https://colab.research.google.com/assets/colab-badge.svg\" alt=\"Open In Colab\"/></a>"
      ]
    },
    {
      "cell_type": "code",
      "execution_count": null,
      "metadata": {
        "id": "jhh7vHzRA8Tl"
      },
      "outputs": [],
      "source": [
        "%pip -q install pydantic-ai\n",
        "%pip -q install nest_asyncio\n",
        "%pip -q install logfire"
      ]
    },
    {
      "cell_type": "code",
      "source": [
        "!git clone https://github.com/Fuenfgeld/Agent_Tutorial_PydanticAI.git"
      ],
      "metadata": {
        "id": "4fxsZZYGDRP_"
      },
      "execution_count": null,
      "outputs": []
    },
    {
      "cell_type": "code",
      "source": [
        "import os\n",
        "from google.colab import userdata\n",
        "\n",
        "keyAntropic = userdata.get('Claude')\n",
        "keyOpenAI = userdata.get('openAI')\n",
        "keyLogFire = userdata.get('logfire')\n",
        "\n",
        "\n",
        "os.environ[\"OPENAI_API_KEY\"] = keyOpenAI\n",
        "os.environ[\"ANTHROPIC_API_KEY\"] = keyAntropic\n",
        "\n",
        "import nest_asyncio\n",
        "nest_asyncio.apply()\n",
        "#logfire.configure(token=keyLogFire)"
      ],
      "metadata": {
        "id": "rAbKC2XSBl93"
      },
      "execution_count": null,
      "outputs": []
    },
    {
      "cell_type": "markdown",
      "source": [
        "# Structured Data models as output\n",
        "https://ai.pydantic.dev/output/#structured-output"
      ],
      "metadata": {
        "id": "eCSZhZdWtnNm"
      }
    },
    {
      "cell_type": "code",
      "source": [
        "import os\n",
        "from pydantic_ai import Agent\n",
        "from pydantic_ai.models.openai import OpenAIChatModel\n",
        "from pydantic import BaseModel\n",
        "\n",
        "# Define the model\n",
        "model = OpenAIChatModel('gpt-4o-mini')\n",
        "\n",
        "# Define the output model\n",
        "class Box(BaseModel):\n",
        "    \"\"\"Caputers the size of a box with its units\"\"\"\n",
        "    width: int\n",
        "    height: int\n",
        "    depth: int\n",
        "    units: str\n",
        "\n",
        "# Define the agent\n",
        "agent = Agent(model=model,\n",
        "              output_type=Box,\n",
        "              system_prompt=\"Extract me the dimensions of a box\",)\n",
        "\n",
        "# Run the agent\n",
        "result = agent.run_sync(\"The box is 10x20x30 cm\")\n",
        "\n",
        "print( f\"\"\"\n",
        "The result is a pydantic data class of type: {type(result.output)}\n",
        "within the width: {result.output.width} width type: {type(result.output.width)}\n",
        "within the unit: {result.output.units} units type: {type(result.output.units)}\n",
        "\"\"\")"
      ],
      "metadata": {
        "id": "QjFyiT0jttl0"
      },
      "execution_count": null,
      "outputs": []
    },
    {
      "cell_type": "markdown",
      "source": [
        "## Nested Data Structure"
      ],
      "metadata": {
        "id": "fdfFiBIeXBO2"
      }
    },
    {
      "cell_type": "code",
      "source": [
        "import os\n",
        "from pydantic_ai import Agent\n",
        "from pydantic_ai.models.openai import OpenAIModel\n",
        "from pydantic import BaseModel, Field\n",
        "\n",
        "from typing import List, Optional\n",
        "from datetime import date\n",
        "from enum import Enum\n",
        "from pprint import pprint\n",
        "\n",
        "# Define the model\n",
        "model = OpenAIModel('gpt-4o-mini')\n",
        "\n",
        "\n",
        "# Enum to represent gender options — teaches use of fixed choices\n",
        "class Gender(str, Enum):\n",
        "    \"\"\"Enum to represent gender options\"\"\"\n",
        "    male = \"male\"\n",
        "    female = \"female\"\n",
        "    other = \"other\"\n",
        "\n",
        "\n",
        "class Allergy(BaseModel):\n",
        "    \"\"\"Describes an allergy, including the substance and optional reaction details\"\"\"\n",
        "    substance: str  = Field(...,description=\"What the patient is allergic to \")\n",
        "    reaction: Optional[str]     = Field(...,description=\"Description of the reaction\")\n",
        "\n",
        "\n",
        "class Medication(BaseModel):\n",
        "    \"\"\"Describes a medication the patient is currently taking\"\"\"\n",
        "    name: str = Field(..., description=\"Name of the medication \")\n",
        "    dose_mg: float = Field(..., description=\"Dosage in milligrams \")\n",
        "    frequency_per_day: int = Field(..., description=\"How many times per day the medication is taken\")\n",
        "\n",
        "\n",
        "class Condition(BaseModel):\n",
        "    \"\"\"Represents a past or current medical condition\"\"\"\n",
        "    name: str = Field(..., description=\"Name of the condition (e.g., 'Asthma')\") # it can be problematic to prime LLM models with examples\n",
        "    diagnosed_date: Optional[date] = Field(None, description=\"Date the condition was diagnosed\")\n",
        "    chronic: bool = Field(..., description=\"Whether the condition is long-term\")\n",
        "\n",
        "\n",
        "class PatientHistory(BaseModel):\n",
        "    \"\"\"Captures a patient's overall medical history including medications, allergies, and diagnoses\"\"\"\n",
        "    name: str = Field(..., description=\"Full name of the patient\")\n",
        "    birth_date: date = Field(..., description=\"Patient's date of birth\")\n",
        "    gender: Gender = Field(..., description=\"Patient's gender\")\n",
        "    height_cm: Optional[float] = Field(None, description=\"Height in centimeters\")\n",
        "    weight_kg: Optional[float] = Field(None, description=\"Weight in kilograms\")\n",
        "    smoker: bool = Field(..., description=\"Whether the patient currently smokes\")\n",
        "\n",
        "    allergies: List[Allergy] = Field(default_factory=list, description=\"List of known allergies\")\n",
        "    medications: List[Medication] = Field(default_factory=list, description=\"List of current medications\")\n",
        "    conditions: List[Condition] = Field(default_factory=list, description=\"List of medical conditions\")\n",
        "\n",
        "# Define the agent\n",
        "patient_generator_agent = Agent(model=model,\n",
        "              output_type=PatientHistory,\n",
        "              system_prompt=\"You are a writer for synthetic patient history, the history will be used as examples for students\",)\n",
        "\n",
        "# Run the agent\n",
        "result = patient_generator_agent.run_sync(\"Generate patient history for Jane Bond\", model_settings={'temperature': 1.0})\n",
        "\n",
        "print( f\"\"\"\n",
        "The result is a pydantic data class of type: {type(result.output)}\n",
        "here are the details:\n",
        "\"\"\")\n",
        "pprint(result.output.model_dump_json(indent=2))"
      ],
      "metadata": {
        "id": "9Zt3fqSpX9ER"
      },
      "execution_count": null,
      "outputs": []
    },
    {
      "cell_type": "markdown",
      "source": [
        "## Data extraction from unstructured text"
      ],
      "metadata": {
        "id": "69sga_2JX-rq"
      }
    },
    {
      "cell_type": "code",
      "source": [
        "with open(\"/content/Agent_Tutorial_PydanticAI/data/JoubertEng.txt\", 'r') as file:\n",
        "    dr_letter = file.read()"
      ],
      "metadata": {
        "id": "-kMGZcRJDxKW"
      },
      "execution_count": null,
      "outputs": []
    },
    {
      "cell_type": "code",
      "source": [
        "print(dr_letter)"
      ],
      "metadata": {
        "id": "rOiybSyyD88X"
      },
      "execution_count": null,
      "outputs": []
    },
    {
      "cell_type": "markdown",
      "source": [
        "### data Model"
      ],
      "metadata": {
        "id": "YpugvSYxDhXA"
      }
    },
    {
      "cell_type": "code",
      "source": [
        "import os\n",
        "from pydantic_ai import Agent\n",
        "from pydantic_ai.models.openai import OpenAIChatModel\n",
        "from pydantic import BaseModel, Field\n",
        "\n",
        "from typing import List, Optional\n",
        "from datetime import date\n",
        "from enum import Enum\n",
        "from pprint import pprint\n",
        "\n",
        "# Define the model\n",
        "model = OpenAIChatModel('gpt-4o-mini')\n",
        "\n",
        "\n",
        "class Medication(BaseModel):\n",
        "    name: str\n",
        "    dosage: Optional[str] = None\n",
        "    frequency: Optional[str] = None\n",
        "\n",
        "    def __str__(self):\n",
        "        parts = [self.name]\n",
        "        if self.dosage:\n",
        "            parts.append(self.dosage)\n",
        "        if self.frequency:\n",
        "            parts.append(self.frequency)\n",
        "        return \": \".join(parts)\n",
        "\n",
        "class PatientHistory(BaseModel):\n",
        "    chief_complaint: str\n",
        "    current_medications: List[Medication] = []\n",
        "    allergies: List[str] = []\n",
        "    other_history: Optional[str] = None\n",
        "\n",
        "class MedicalLetter(BaseModel):\n",
        "    # Patient and visit information\n",
        "    patient_name: str\n",
        "    patient_dob: date\n",
        "    visit_date: date\n",
        "    case_number: str\n",
        "    insurance: Optional[str] = None\n",
        "\n",
        "    # Clinical information\n",
        "    patient_history: PatientHistory\n",
        "\n",
        "    # Examination findings (simplified to text descriptions)\n",
        "    examination_findings: List[str] = []\n",
        "\n",
        "    # Diagnosis and treatment\n",
        "    diagnoses: List[str]\n",
        "    recommendations: List[str] = []\n",
        "    prescribed_medications: List[Medication] = []\n",
        "    follow_up: Optional[str] = None\n",
        "\n",
        "# Define the agent\n",
        "agent = Agent(model=model,\n",
        "              output_type=MedicalLetter,\n",
        "              system_prompt=\"You are a medical coding assisstent to extract infromation from doctors letter into a structured data model\",)\n",
        "\n",
        "# Run the agent\n",
        "result = agent.run_sync(f\"extract the data for the following letter: {dr_letter} \", model_settings={'temperature': 0})\n",
        "\n",
        "print( f\"\"\"\n",
        "The result is a pydantic data class of type: {type(result.output)}\n",
        "here are the details:\n",
        "\"\"\")\n",
        "pprint(result.output.model_dump_json(indent=2))"
      ],
      "metadata": {
        "id": "NkJPU4qJYF3V"
      },
      "execution_count": null,
      "outputs": []
    },
    {
      "cell_type": "markdown",
      "source": [
        "### Exercise\n",
        "create the data model and the extractor for the other Dr letter\n",
        "\n",
        "\n",
        "```\n",
        "/content/Agent_Tutorial_PydanticAI/data/UtzEng.txt\n",
        "```\n",
        "\n"
      ],
      "metadata": {
        "id": "vWDrp4VyqSKb"
      }
    },
    {
      "cell_type": "code",
      "source": [
        "with open(\"/content/Agent_Tutorial_PydanticAI/data/UtzEng.txt\", 'r') as file:\n",
        "    dr_letter = file.read()\n",
        "print(dr_letter)"
      ],
      "metadata": {
        "id": "mewdMX4CRrMP"
      },
      "execution_count": null,
      "outputs": []
    },
    {
      "cell_type": "code",
      "source": [
        "import os\n",
        "from pydantic_ai import Agent\n",
        "from pydantic_ai.models.openai import OpenAIChatModel\n",
        "from pydantic import BaseModel, Field\n",
        "\n",
        "from typing import List, Optional\n",
        "from datetime import date, datetime\n",
        "from enum import Enum\n",
        "from pprint import pprint\n",
        "\n",
        "# Define the model\n",
        "model = OpenAIChatModel('gpt-4o-mini')\n",
        "with open(\"/content/Agent_Tutorial_PydanticAI/data/UtzEng.txt\", 'r') as file:\n",
        "    dr_letter = file.read()\n",
        "\n",
        "\n",
        "\n",
        "class PatientInfo(BaseModel):\n",
        "    name: str = Field(..., description=\"Patient's full name\")\n",
        "    date_of_birth: date = Field(..., description=\"Patient's date of birth\")\n",
        "    residence: str = Field(..., description=\"Patient's place of residence\")\n",
        "\n",
        "class Diagnosis(BaseModel):\n",
        "    condition: str = Field(..., description=\"Name of the diagnosed condition\")\n",
        "    date_diagnosed: Optional[str] = Field(None, description=\"When the condition was diagnosed\")\n",
        "    details: Optional[str] = Field(None, description=\"Additional details about the diagnosis\")\n",
        "    icd_code: Optional[str] = Field(None, description=\"ICD code if available\")\n",
        "\n",
        "class PreviousTherapy(BaseModel):\n",
        "    period: str = Field(..., description=\"Time period of the therapy\")\n",
        "    description: str = Field(..., description=\"Description of the therapy\")\n",
        "    icd_code: Optional[str] = Field(None, description=\"Related ICD code if available\")\n",
        "\n",
        "class Medication(BaseModel):\n",
        "    name: str = Field(..., description=\"Name of the medication\")\n",
        "    dosage: str = Field(..., description=\"Dosage instructions\")\n",
        "    purpose: Optional[str] = Field(None, description=\"Purpose of the medication\")\n",
        "\n",
        "class MedicationAdministered(BaseModel):\n",
        "    name: str = Field(..., description=\"Name of the medication\")\n",
        "    dose: str = Field(..., description=\"Dose of medication\")\n",
        "    duration: str = Field(..., description=\"Duration of administration\")\n",
        "\n",
        "class ChemotherapySession(BaseModel):\n",
        "    cycle_number: int = Field(..., description=\"Cycle number of chemotherapy\")\n",
        "    session_date: date = Field(..., description=\"Date of administration\")\n",
        "    administered_medications: List[MedicationAdministered] = Field(..., description=\"Medications administered\")\n",
        "    tolerance: str = Field(..., description=\"How well the therapy was tolerated\")\n",
        "\n",
        "class ClinicalFinding(BaseModel):\n",
        "    category: str = Field(..., description=\"Category of the finding\")\n",
        "    description: str = Field(..., description=\"Detailed description of the finding\")\n",
        "\n",
        "class DoctorsLetter(BaseModel):\n",
        "    letter_date: date = Field(..., description=\"Date of the doctor's letter\")\n",
        "    patient: PatientInfo = Field(..., description=\"Patient information\")\n",
        "    diagnoses: List[Diagnosis] = Field(..., description=\"List of diagnoses\")\n",
        "    current_therapy: Optional[str] = Field(None, description=\"Current therapy\")\n",
        "    previous_therapies: List[PreviousTherapy] = Field([], description=\"Previous therapies\")\n",
        "    recommended_medications: List[Medication] = Field([], description=\"Recommended medications\")\n",
        "    therapy_details: Optional[ChemotherapySession] = Field(None, description=\"Details of current therapy session\")\n",
        "    clinical_findings: List[ClinicalFinding] = Field([], description=\"Clinical findings during examination\")\n",
        "    summary: str = Field(..., description=\"Summary of the treatment and patient's condition\")\n",
        "    discharge_date: Optional[date] = Field(None, description=\"Date of discharge\")\n",
        "    discharge_condition: Optional[str] = Field(None, description=\"Patient's condition upon discharge\")\n",
        "    physician: str = Field(..., description=\"Name of the physician\")\n",
        "\n",
        "# Define the agent\n",
        "agent = Agent(model=model,\n",
        "              output_type=DoctorsLetter,\n",
        "              system_prompt=\"You are a medical coding assisstent to extract infromation from doctors letter into a structured data model\",)\n",
        "\n",
        "# Run the agent\n",
        "result = agent.run_sync(f\"extract the data for the following letter: {dr_letter} \", model_settings={'temperature': 0})\n",
        "\n",
        "print( f\"\"\"\n",
        "The result is a pydantic data class of type: {type(result.output)}\n",
        "here are the details:\n",
        "\"\"\")\n",
        "pprint(result.output.model_dump_json(indent=2))"
      ],
      "metadata": {
        "id": "vo4z4Noiqfch"
      },
      "execution_count": null,
      "outputs": []
    },
    {
      "cell_type": "markdown",
      "source": [
        "#Output Validators\n",
        "\n",
        "Sometimes ther is a need to go byond data type validation provided by Pydantic here offers validation functions via the agent.output_validator decorator."
      ],
      "metadata": {
        "id": "wFhEn27KYNZS"
      }
    },
    {
      "cell_type": "code",
      "source": [
        "import os\n",
        "from pydantic_ai import Agent, ModelRetry\n",
        "from pydantic_ai.models.openai import OpenAIChatModel\n",
        "from pydantic import BaseModel\n",
        "\n",
        "# Define the model\n",
        "model = OpenAIChatModel('gpt-4o-mini')\n",
        "\n",
        "\n",
        "\n",
        "# Define the agent\n",
        "agent = Agent(model=model,\n",
        "              retries=1,\n",
        "              system_prompt=\"see if you have been given all three dimesion to describe the size of a box (width height depth). Answer with a single word either 'correct' or 'wrong'\",)\n",
        "\n",
        "# Define the result validator\n",
        "@agent.output_validator\n",
        "def output_validator_simple(data: str) -> str:\n",
        "\n",
        "    print(f\"output_validatorinput data:{data}\" )\n",
        "    if 'wrong' in data.lower():\n",
        "        raise ModelRetry('wrong response')\n",
        "    return data\n",
        "\n",
        "# Run the agent\n",
        "result = agent.run_sync(\"The box is 10x20x30 cm\")\n",
        "print(result.output)\n",
        "\n",
        "result = agent.run_sync(\"The box is 10\")\n",
        "print(result.output)"
      ],
      "metadata": {
        "id": "yKjsI3YYYSjA"
      },
      "execution_count": null,
      "outputs": []
    },
    {
      "cell_type": "markdown",
      "source": [
        "## Validate structured Output"
      ],
      "metadata": {
        "id": "4ts3x1XSb5yG"
      }
    },
    {
      "cell_type": "code",
      "source": [
        "import os\n",
        "from pydantic_ai import Agent, ModelRetry\n",
        "from pydantic_ai.models.openai import OpenAIChatModel\n",
        "from pydantic import BaseModel, Field\n",
        "\n",
        "from datetime import date\n",
        "from pprint import pprint\n",
        "\n",
        "# Define the model\n",
        "model = OpenAIChatModel('gpt-4o-mini')\n",
        "\n",
        "\n",
        "class PatientInfo(BaseModel):\n",
        "    \"\"\"Captures a patient's name and borthdate \"\"\"\n",
        "    name: str = Field(..., description=\"Full name of the patient\")\n",
        "    birth_date: date = Field(..., description=\"Patient's date of birth\")\n",
        "\n",
        "# Define the agent\n",
        "agent = Agent(model=model,\n",
        "              output_type=PatientInfo,\n",
        "              retries=1,\n",
        "              system_prompt=\"You are a writer for synthetic patient information\")\n",
        "\n",
        "@agent.output_validator\n",
        "def is_valid_date(data: PatientInfo) ->PatientInfo:\n",
        "    cutoff = date(1925, 1, 1)\n",
        "    print(f\"validating birthdate:{data.birth_date}\" )\n",
        "    if data.birth_date < cutoff:\n",
        "        raise ModelRetry(\"Patient is too old generate a new one that is younger\")\n",
        "    return data\n",
        "\n",
        "# Run the agent\n",
        "result = agent.run_sync(\"Generate patient history for Jane Bond she is born 1900\", model_settings={'temperature': 1.0})\n",
        "print(result.output.birth_date)"
      ],
      "metadata": {
        "id": "xojAtR7GbMXr"
      },
      "execution_count": null,
      "outputs": []
    },
    {
      "cell_type": "markdown",
      "source": [
        "## Multiple validators"
      ],
      "metadata": {
        "id": "PSMzkSqxdBVV"
      }
    },
    {
      "cell_type": "code",
      "source": [
        "import os\n",
        "from pydantic_ai import Agent, RunContext, ModelRetry\n",
        "from pydantic_ai.models.openai import OpenAIChatModel\n",
        "from pydantic import BaseModel, Field\n",
        "from typing import List\n",
        "from colorama import Fore, Style\n",
        "\n",
        "model = OpenAIChatModel('gpt-4o-mini')\n",
        "\n",
        "class PatientSummary(BaseModel):\n",
        "    \"\"\"Represents a brief summary of a hypothetical patient.\"\"\"\n",
        "    patient_id: str = Field(..., description=\"A unique identifier for the patient, e.g., PAT-001.\")\n",
        "    age: int = Field(..., description=\"The patient's age in years.\")\n",
        "    bmi: float = Field(..., description=\"The patient's Body Mass Index.\")\n",
        "    symptoms: List[str] = Field(..., description=\"A list of primary symptoms observed.\")\n",
        "    diagnosis_guess: str = Field(..., description=\"A preliminary, very brief possible diagnosis or area of concern.\")\n",
        "\n",
        "# 3. Define the AI Agent\n",
        "agent = Agent(\n",
        "    model=model,\n",
        "    output_type=PatientSummary,\n",
        "    system_prompt=(\n",
        "        \"You are a medical data simulator. Generate a plausible, hypothetical patient summary.\"\n",
        "    ),\n",
        "    retries=3\n",
        ")\n",
        "\n",
        "# --- Validator Functions ---\n",
        "@agent.output_validator\n",
        "def validate_age( result: PatientSummary) -> PatientSummary:\n",
        "    if not (18 <= result.age <= 70):\n",
        "        raise ModelRetry(f\"Age {result.age} invalid. change the age.\")\n",
        "    return result\n",
        "\n",
        "@agent.output_validator\n",
        "def validate_bmi( result: PatientSummary) -> PatientSummary:\n",
        "    lower_bound = 18.5\n",
        "    upper_bound = 30.0\n",
        "    if not (lower_bound <= result.bmi <= upper_bound):\n",
        "        raise ModelRetry(f\"BMI {result.bmi} invalid.change the BMI it should be between {lower_bound} and {upper_bound} .\")\n",
        "    return result\n",
        "\n",
        "@agent.output_validator\n",
        "def validate_symptoms( result: PatientSummary) -> PatientSummary:\n",
        "    if not result.symptoms or not any(symptom.strip() for symptom in result.symptoms):\n",
        "        raise ModelRetry(\"Symptoms invalid. change the symptoms\")\n",
        "    return result\n",
        "\n",
        "# --- Run the Agent ---\n",
        "print(Fore.BLUE + \"\\nAttempting to generate and validate patient summary...\" + Style.RESET_ALL)\n",
        "\n",
        "def run():\n",
        "    patient_data = agent.run_sync(\"Generate a summary for an adult patient presenting with common flu-like symptoms with n BMI of 36.\", model_settings={'temperature': 1.0})\n",
        "    print(Fore.GREEN + \"\\n--- Validated Patient Summary ---\" + Style.RESET_ALL)\n",
        "    print(f\"Patient ID: {patient_data.output.patient_id}\")\n",
        "    print(f\"Age: {patient_data.output.age}\")\n",
        "    print(f\"BMI: {patient_data.output.bmi}\")\n",
        "    print(f\"Symptoms: {', '.join(patient_data.output.symptoms)}\")\n",
        "    print(f\"Initial Diagnosis Guess: {patient_data.output.diagnosis_guess}\")\n",
        "\n",
        "run()"
      ],
      "metadata": {
        "id": "nEOPihGjdOTh"
      },
      "execution_count": null,
      "outputs": []
    },
    {
      "cell_type": "markdown",
      "source": [
        "## Validate executable code"
      ],
      "metadata": {
        "id": "UJhx-XUzdSKT"
      }
    },
    {
      "cell_type": "code",
      "source": [],
      "metadata": {
        "id": "wBlwCDHUdYCE"
      },
      "execution_count": null,
      "outputs": []
    }
  ]
}