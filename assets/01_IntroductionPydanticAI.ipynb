{
  "nbformat": 4,
  "nbformat_minor": 0,
  "metadata": {
    "colab": {
      "private_outputs": true,
      "provenance": [],
      "authorship_tag": "ABX9TyMhUrFtxchpeEJw91Eqm2mq",
      "include_colab_link": true
    },
    "kernelspec": {
      "name": "python3",
      "display_name": "Python 3"
    },
    "language_info": {
      "name": "python"
    }
  },
  "cells": [
    {
      "cell_type": "markdown",
      "metadata": {
        "id": "view-in-github",
        "colab_type": "text"
      },
      "source": [
        "<a href=\"https://colab.research.google.com/github/Fuenfgeld/Agent_Tutorial_PydanticAI/blob/main/assets/01_IntroductionPydanticAI.ipynb\" target=\"_parent\"><img src=\"https://colab.research.google.com/assets/colab-badge.svg\" alt=\"Open In Colab\"/></a>"
      ]
    },
    {
      "cell_type": "markdown",
      "source": [
        "## Setup Notebook"
      ],
      "metadata": {
        "id": "MPNlM79iRjRr"
      }
    },
    {
      "cell_type": "code",
      "execution_count": null,
      "metadata": {
        "id": "vHslMwxgKvu7"
      },
      "outputs": [],
      "source": [
        "%pip -q install pydantic-ai\n",
        "%pip -q install nest_asyncio\n",
        "%pip -q install logfire"
      ]
    },
    {
      "cell_type": "code",
      "source": [
        "import os\n",
        "from google.colab import userdata\n",
        "\n",
        "keyAntropic = userdata.get('Claude')\n",
        "keyOpenAI = userdata.get('openAI')\n",
        "keyLogFire = userdata.get('logfire')\n",
        "\n",
        "\n",
        "os.environ[\"OPENAI_API_KEY\"] = keyOpenAI\n",
        "os.environ[\"ANTHROPIC_API_KEY\"] = keyAntropic\n",
        "\n",
        "import nest_asyncio\n",
        "nest_asyncio.apply()"
      ],
      "metadata": {
        "id": "iX8T6NifMp1H"
      },
      "execution_count": null,
      "outputs": []
    },
    {
      "cell_type": "markdown",
      "source": [
        "## Agent Setup\n",
        "\n",
        "\n",
        "PydanticAI is model agnostic and can utilize most LLM models. PydanticAI can use most models either offered via API (openAI, Antropic, Mistral ...) or self-hosted models (llama, deepseek R1 ...). Switching out models is easy and seamless.\n",
        "\n"
      ],
      "metadata": {
        "id": "URvy6j5ZRrc8"
      }
    },
    {
      "cell_type": "markdown",
      "source": [
        "### openAI model"
      ],
      "metadata": {
        "id": "RsaFDaBRS4-l"
      }
    },
    {
      "cell_type": "code",
      "source": [
        "from pydantic_ai import Agent\n",
        "from pydantic_ai.messages import ModelMessage\n",
        "from pydantic_ai.models.openai import OpenAIModel\n",
        "\n",
        "openAI_model = OpenAIModel('gpt-4o-mini')\n",
        "agent = Agent(model=openAI_model)\n",
        "\n",
        "result = agent.run_sync(user_prompt=\"What are the official languages in Luxembourg\")\n",
        "print(result.output)\n"
      ],
      "metadata": {
        "id": "C2mC5zZjO36d"
      },
      "execution_count": null,
      "outputs": []
    },
    {
      "cell_type": "markdown",
      "source": [
        "### Antropic model"
      ],
      "metadata": {
        "id": "OF8SKDrHS9sC"
      }
    },
    {
      "cell_type": "code",
      "source": [
        "from pydantic_ai.models.anthropic import AnthropicModel\n",
        "\n",
        "claude_model = AnthropicModel('claude-3-5-haiku-latest')\n",
        "agent = Agent(model=claude_model)\n",
        "\n",
        "result = agent.run_sync(user_prompt=\"What are the official languages in Luxembourg\")\n",
        "print(result.output)"
      ],
      "metadata": {
        "id": "6euATCMpQeeq"
      },
      "execution_count": null,
      "outputs": []
    },
    {
      "cell_type": "markdown",
      "source": [
        "## logfire\n",
        "\n",
        "logfire is a platform that helps you debug Agent systems. It is tightly integrated with pydanticAI and helps you with logging, tracing, and debugging."
      ],
      "metadata": {
        "id": "M5rtmXe1V3w_"
      }
    },
    {
      "cell_type": "code",
      "source": [
        "import logfire\n",
        "\n",
        "# Configure logfire\n",
        "logfire.configure(token=keyLogFire)\n",
        "\n",
        "# Send a log\n",
        "logfire.info('System check, thanks good its {date}', date='Friday')"
      ],
      "metadata": {
        "id": "miECuL6tXZ-R"
      },
      "execution_count": null,
      "outputs": []
    },
    {
      "cell_type": "markdown",
      "source": [],
      "metadata": {
        "id": "Um8BZCKNYLPb"
      }
    }
  ]
}