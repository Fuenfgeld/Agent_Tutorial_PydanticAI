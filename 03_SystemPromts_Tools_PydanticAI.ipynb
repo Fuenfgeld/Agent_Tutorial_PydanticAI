{
  "nbformat": 4,
  "nbformat_minor": 0,
  "metadata": {
    "colab": {
      "private_outputs": true,
      "provenance": [],
      "authorship_tag": "ABX9TyOg39rD/Nxxki1UhAh1Urex",
      "include_colab_link": true
    },
    "kernelspec": {
      "name": "python3",
      "display_name": "Python 3"
    },
    "language_info": {
      "name": "python"
    }
  },
  "cells": [
    {
      "cell_type": "markdown",
      "metadata": {
        "id": "view-in-github",
        "colab_type": "text"
      },
      "source": [
        "<a href=\"https://colab.research.google.com/github/Fuenfgeld/Agent_Tutorial_PydanticAI/blob/main/03_SystemPromts_Tools_PydanticAI.ipynb\" target=\"_parent\"><img src=\"https://colab.research.google.com/assets/colab-badge.svg\" alt=\"Open In Colab\"/></a>"
      ]
    },
    {
      "cell_type": "code",
      "execution_count": null,
      "metadata": {
        "id": "H2DixImDenJV"
      },
      "outputs": [],
      "source": [
        "%pip -q install pydantic-ai\n",
        "%pip -q install nest_asyncio\n",
        "%pip -q install logfire"
      ]
    },
    {
      "cell_type": "code",
      "source": [
        "import os\n",
        "from google.colab import userdata\n",
        "\n",
        "keyAntropic = userdata.get('Claude')\n",
        "keyOpenAI = userdata.get('openAI')\n",
        "keyLogFire = userdata.get('logfire')\n",
        "\n",
        "\n",
        "os.environ[\"OPENAI_API_KEY\"] = keyOpenAI\n",
        "os.environ[\"ANTHROPIC_API_KEY\"] = keyAntropic\n",
        "\n",
        "import nest_asyncio\n",
        "nest_asyncio.apply()\n",
        "#logfire.configure(token=keyLogFire)"
      ],
      "metadata": {
        "id": "ckphHZ4TfQXt"
      },
      "execution_count": null,
      "outputs": []
    },
    {
      "cell_type": "markdown",
      "source": [
        "# System Promt"
      ],
      "metadata": {
        "id": "EHgLZ8eNJUIN"
      }
    },
    {
      "cell_type": "markdown",
      "source": [
        "Generally, system prompts fall into two categories\n",
        "\n",
        "   * Static system prompts: These are known when writing the code and can be defined via the system_prompt parameter of the Agent constructor.\n",
        "   * Dynamic system prompts: These depend in some way on context that isn't known until runtime, and should be defined via functions decorated with @agent.system_prompt.\n",
        "\n"
      ],
      "metadata": {
        "id": "TyEemcqZNA3G"
      }
    },
    {
      "cell_type": "code",
      "source": [
        "import os\n",
        "from pydantic_ai import Agent, RunContext\n",
        "from pydantic_ai.models.openai import OpenAIModel\n",
        "from datetime import date\n",
        "\n",
        "# Define the model\n",
        "model = OpenAIModel('gpt-4o-mini')\n",
        "\n",
        "# Create an agent that will use GPT-4o as the LLM\n",
        "# The deps_type=str means we'll pass a string as dependency (patient ID)\n",
        "agent = Agent(\n",
        "    model,\n",
        "    deps_type=str,\n",
        "    system_prompt=\"Use the patient's ID when discussing their medical information.\",\n",
        ")\n",
        "\n",
        "# Add system prompt that includes the patient ID in the context\n",
        "@agent.system_prompt\n",
        "def add_patient_id(ctx: RunContext[str]) -> str:\n",
        "    return f\"The patient's ID you're discussing is {ctx.deps}.\"\n",
        "\n",
        "# Add system prompt that includes today's date for medical record keeping\n",
        "@agent.system_prompt\n",
        "def add_current_date() -> str:\n",
        "    return f'Today\\'s date for the medical record is {date.today()}.'\n",
        "\n",
        "# Run the agent with a query about lab results and include patient ID\n",
        "result = agent.run_sync('What were my latest blood glucose results? also what date is it', deps='PT12345')\n",
        "print(result.output)\n"
      ],
      "metadata": {
        "id": "4UT0A3J9JTey"
      },
      "execution_count": null,
      "outputs": []
    },
    {
      "cell_type": "markdown",
      "source": [
        "# Tools"
      ],
      "metadata": {
        "id": "e2Idmy3aJN0w"
      }
    },
    {
      "cell_type": "code",
      "source": [],
      "metadata": {
        "id": "xeb6l3KqJSR6"
      },
      "execution_count": null,
      "outputs": []
    }
  ]
}