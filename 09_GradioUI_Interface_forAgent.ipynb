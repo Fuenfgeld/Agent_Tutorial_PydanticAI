{
  "nbformat": 4,
  "nbformat_minor": 0,
  "metadata": {
    "colab": {
      "private_outputs": true,
      "provenance": [],
      "authorship_tag": "ABX9TyMaee7SDMZ3q8049B67ezuS",
      "include_colab_link": true
    },
    "kernelspec": {
      "name": "python3",
      "display_name": "Python 3"
    },
    "language_info": {
      "name": "python"
    }
  },
  "cells": [
    {
      "cell_type": "markdown",
      "metadata": {
        "id": "view-in-github",
        "colab_type": "text"
      },
      "source": [
        "<a href=\"https://colab.research.google.com/github/Fuenfgeld/Agent_Tutorial_PydanticAI/blob/main/09_GradioUI_Interface_forAgent.ipynb\" target=\"_parent\"><img src=\"https://colab.research.google.com/assets/colab-badge.svg\" alt=\"Open In Colab\"/></a>"
      ]
    },
    {
      "cell_type": "code",
      "execution_count": null,
      "metadata": {
        "id": "va8X7FtznUjK"
      },
      "outputs": [],
      "source": [
        "%pip -q install pydantic-ai\n",
        "%pip -q install nest_asyncio\n",
        "%pip -q install gradio"
      ]
    },
    {
      "cell_type": "code",
      "source": [
        "from google.colab import userdata\n",
        "keyOpenAI = userdata.get('openAI')\n",
        "\n",
        "import os\n",
        "from google.colab import userdata\n",
        "from IPython.display import display, Markdown\n",
        "\n",
        "os.environ[\"OPENAI_API_KEY\"] = keyOpenAI\n",
        "\n",
        "import nest_asyncio\n",
        "nest_asyncio.apply()"
      ],
      "metadata": {
        "id": "7BIv5HvKnXh7"
      },
      "execution_count": null,
      "outputs": []
    },
    {
      "cell_type": "code",
      "source": [
        "import os\n",
        "\n",
        "from pydantic_ai import Agent\n",
        "from pydantic_ai.messages import (ModelMessage)\n",
        "from pydantic_ai.models.openai import OpenAIModel\n"
      ],
      "metadata": {
        "id": "2MD-NGEMnjfD"
      },
      "execution_count": null,
      "outputs": []
    },
    {
      "cell_type": "code",
      "source": [
        "model = OpenAIModel('gpt-4o-mini')"
      ],
      "metadata": {
        "id": "wIh9dOVInrsa"
      },
      "execution_count": null,
      "outputs": []
    },
    {
      "cell_type": "code",
      "source": [
        "system_prompt = \"\"\"\n",
        "You are an AI assistant\n",
        "\"\"\""
      ],
      "metadata": {
        "id": "NxDqNxvpoa6W"
      },
      "execution_count": null,
      "outputs": []
    },
    {
      "cell_type": "code",
      "source": [
        "import gradio as gr\n",
        "\n",
        "agent = Agent(model=model, system_prompt= system_prompt)\n",
        "history_pydantic_format: list[ModelMessage] = []\n",
        "\n",
        "def predict(message, history):\n",
        "    result = agent.run_sync(message, deps=message, message_history=history_pydantic_format)\n",
        "    msg = result.new_messages()\n",
        "    history_pydantic_format.extend(msg)\n",
        "    return result.data\n",
        "\n",
        "dem = gr.ChatInterface(\n",
        "    predict,\n",
        "    type=\"messages\"\n",
        ")\n",
        "\n",
        "dem.launch(share=True, debug=True)"
      ],
      "metadata": {
        "id": "3NvRD4Ygn0Jw"
      },
      "execution_count": null,
      "outputs": []
    }
  ]
}