{
  "nbformat": 4,
  "nbformat_minor": 0,
  "metadata": {
    "colab": {
      "private_outputs": true,
      "provenance": [],
      "authorship_tag": "ABX9TyP1ybd4Ph6jV54+oRcGtNgW",
      "include_colab_link": true
    },
    "kernelspec": {
      "name": "python3",
      "display_name": "Python 3"
    },
    "language_info": {
      "name": "python"
    }
  },
  "cells": [
    {
      "cell_type": "markdown",
      "metadata": {
        "id": "view-in-github",
        "colab_type": "text"
      },
      "source": [
        "<a href=\"https://colab.research.google.com/github/Fuenfgeld/Agent_Tutorial_PydanticAI/blob/main/05_Agent_Self_Correction.ipynb\" target=\"_parent\"><img src=\"https://colab.research.google.com/assets/colab-badge.svg\" alt=\"Open In Colab\"/></a>"
      ]
    },
    {
      "cell_type": "code",
      "source": [
        "%pip -q install pydantic-ai\n",
        "%pip -q install nest_asyncio\n",
        "%pip -q install devtools\n",
        "%pip -q install logfire\n",
        "%pip -q install aiosqlite"
      ],
      "metadata": {
        "id": "wFHhgB6neNDL"
      },
      "execution_count": null,
      "outputs": []
    },
    {
      "cell_type": "code",
      "source": [
        "from google.colab import userdata\n",
        "key = userdata.get('Claude')\n",
        "keyOpenAI = userdata.get('openAI')\n",
        "keyLogFire = userdata.get('logfire')\n",
        "\n",
        "import os\n",
        "from google.colab import userdata\n",
        "from IPython.display import display, Markdown\n",
        "\n",
        "os.environ[\"OPENAI_API_KEY\"] = keyOpenAI\n",
        "os.environ[\"ANTHROPIC_API_KEY\"] = key\n",
        "import nest_asyncio\n",
        "nest_asyncio.apply()\n"
      ],
      "metadata": {
        "id": "opwwQG-leM8a"
      },
      "execution_count": null,
      "outputs": []
    },
    {
      "cell_type": "code",
      "source": [
        "import logfire\n",
        "logfire.configure(token=keyLogFire)"
      ],
      "metadata": {
        "id": "GKjvIaC8eUrt"
      },
      "execution_count": null,
      "outputs": []
    },
    {
      "cell_type": "code",
      "execution_count": null,
      "metadata": {
        "id": "j_QLZbi6eMFH"
      },
      "outputs": [],
      "source": [
        "import asyncio\n",
        "import os\n",
        "import aiosqlite\n",
        "from sqlite3 import Connection\n",
        "from colorama import Fore\n",
        "from pydantic import BaseModel\n",
        "from pydantic_ai import Agent, ModelRetry, RunContext\n",
        "from pydantic_ai.models.openai import OpenAIModel\n",
        "\n",
        "# Define the AI model to use for understanding natural language requests\n",
        "model = OpenAIModel('gpt-4o-mini')\n",
        "\n",
        "# Define the patient data structure using Pydantic for validation\n",
        "class Patient(BaseModel):\n",
        "    patient_id: int\n",
        "    mrn: str  # Medical Record Number\n",
        "    full_name: str\n",
        "    diagnosis: str\n",
        "\n",
        "# Create an AI agent that can interact with the database\n",
        "agent = Agent(model=model,\n",
        "              system_prompt=\"You are a clinical assistant. Help retrieve patient records using the available tools.\",\n",
        "              result_type=Patient,\n",
        "              deps_type=Connection)\n",
        "\n",
        "@logfire.instrument('get_patient_by_name')\n",
        "@agent.tool(retries=10)\n",
        "async def get_patient_by_name(ctx: RunContext[Connection], name: str) -> int:\n",
        "    \"\"\"Search for a patient record using their full name.\"\"\"\n",
        "    # Execute SQL query to find patient by name\n",
        "    async with ctx.deps.cursor() as cursor:\n",
        "        await cursor.execute(f'SELECT * FROM patients WHERE full_name=\"{name}\"')\n",
        "        query_result = await cursor.fetchall()\n",
        "        if not query_result:\n",
        "            print(Fore.YELLOW, f\"Patient with name {name} not found.\")\n",
        "            raise ModelRetry(f\"Patient with name {name} not found. Try a different spelling or format.\")\n",
        "    return query_result[0]\n",
        "\n",
        "@logfire.instrument('get_patient_by_mrn')\n",
        "@agent.tool(retries=3)\n",
        "async def get_patient_by_mrn(ctx: RunContext[Connection], mrn: str) -> int:\n",
        "    \"\"\"Search for a patient record using their medical record number.\"\"\"\n",
        "    # Execute SQL query to find patient by MRN\n",
        "    async with ctx.deps.cursor() as cursor:\n",
        "        await cursor.execute(f'SELECT * FROM patients WHERE mrn=\"{mrn}\"')\n",
        "        query_result = await cursor.fetchall()\n",
        "        if not query_result:\n",
        "            raise ValueError(f\"Patient with MRN {mrn} not found.\")\n",
        "    return query_result[0]\n",
        "\n",
        "async def seed_db(conn):\n",
        "    # Create and populate the database with sample patient data\n",
        "    await conn.execute(\"DROP TABLE IF EXISTS patients\")\n",
        "    await conn.execute(\"CREATE TABLE IF NOT EXISTS patients (patient_id INTEGER PRIMARY KEY, mrn TEXT, full_name TEXT, diagnosis TEXT)\")\n",
        "    await conn.execute(\"INSERT INTO patients (mrn, full_name, diagnosis) VALUES ('MRN001', 'John Smith', 'Hypertension')\")\n",
        "    await conn.execute(\"INSERT INTO patients (mrn, full_name, diagnosis) VALUES ('MRN002', 'Jane Smith', 'Type 2 Diabetes')\")\n",
        "    await conn.execute(\"INSERT INTO patients (mrn, full_name, diagnosis) VALUES ('MRN003', 'Jim Smith', 'Asthma')\")\n",
        "    await conn.commit()\n",
        "\n",
        "async def main():\n",
        "    # Connect to database and run the patient lookup\n",
        "    async with aiosqlite.connect(\"clinic.sqlite\") as conn:\n",
        "        await seed_db(conn)\n",
        "        with logfire.span('Retrieving patient record') as span:\n",
        "         try:\n",
        "            # Intentionally misspelled name to demonstrate retry capability\n",
        "            result = await agent.run('Find the patient record for Jimmy Smith', deps=conn)\n",
        "            span.set_attribute('result', result.output)\n",
        "            print(Fore.GREEN, f\"Patient record: {result.output}\")\n",
        "         except ValueError as e:\n",
        "            print(Fore.YELLOW, e)\n",
        "            span.record_exception(e)\n",
        "         except Exception as e:\n",
        "            print(Fore.RED, e)\n",
        "            span.record_exception(e)\n",
        "\n",
        "if __name__ == \"__main__\":\n",
        "    asyncio.run(main())"
      ]
    }
  ]
}